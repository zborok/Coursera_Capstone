{
    "cells": [
        {
            "cell_type": "markdown",
            "metadata": {
                "collapsed": true
            },
            "source": "# Introduction\n\nAny individual wishing to start a restuarant wants nothing more than for his/her restaurant to succeed. If location is not an issue, one option is to figure out which neighborhood(s) will most enjoy the cuisine that the individual wishes to serve. On the other hand, if the restaurant owner is set on establishing themselves in a particular neighborhood, then it may be advisable to investigate said neighborhood's tastes and preferences regarding its cuisine. Thus, establishing which neighborhoods like which cuisines is of paramount importance to any restaurant owner."
        },
        {
            "cell_type": "markdown",
            "metadata": {},
            "source": "# Data\n\nI will be focusing on the city of Chicago for this project. I will be using foursquare's data on venue locations to determine which cuisines each neighborhood in the city of Chicago prefers. I will determine this preferance by the frequency of each cuisine type in each neighborhood. "
        },
        {
            "cell_type": "code",
            "execution_count": null,
            "metadata": {},
            "outputs": [],
            "source": ""
        }
    ],
    "metadata": {
        "kernelspec": {
            "display_name": "Python 3.7",
            "language": "python",
            "name": "python3"
        },
        "language_info": {
            "codemirror_mode": {
                "name": "ipython",
                "version": 3
            },
            "file_extension": ".py",
            "mimetype": "text/x-python",
            "name": "python",
            "nbconvert_exporter": "python",
            "pygments_lexer": "ipython3",
            "version": "3.7.9"
        }
    },
    "nbformat": 4,
    "nbformat_minor": 1
}